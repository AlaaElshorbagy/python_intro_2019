{
 "cells": [
  {
   "cell_type": "markdown",
   "metadata": {
    "colab_type": "text",
    "id": "t1ACyJj4VcBy"
   },
   "source": [
    "## Jupyter (formerly ipython) notebook intro\n",
    "* this document is a jupyter notebook\n",
    "* flexible tool to create readable documents that embeds:\n",
    " * code\n",
    " * images\n",
    " * comments\n",
    " * formulas\n",
    " * plots\n",
    "* jupyter supports notebooks form many different languages (including python, julia and R) \n",
    "* each document runs a computational engine that executes the code written in the cells\n"
   ]
  },
  {
   "cell_type": "markdown",
   "metadata": {
    "colab_type": "text",
    "id": "JUfvXFShVcB2"
   },
   "source": [
    "Built-in magic commands in jupyter\n",
    "\n",
    "    jupyter embeds special commands (called magics) that enables to run different kind of code.\n",
    "        magic inline commands start with \"%\"\n",
    "        magic multiple line commands start with \"%%\"\n",
    "        you can list magic commands running %lsmagic\n",
    "        you can pop-up the magic command documentation (if any) adding \"?\" after the command with no space\n",
    "    few magics you might find useful:\n",
    "        ! runs inline shell commands\n",
    "        %%bash to run bash program (same syntax for other languages)\n",
    "        embed latex inline between $$\n",
    "        %%latex to render a latex block\n",
    "        ...\n",
    "        %reset to remove all names defined by the user\n"
   ]
  },
  {
   "cell_type": "code",
   "execution_count": null,
   "metadata": {
    "colab": {
     "base_uri": "https://localhost:8080/",
     "height": 169
    },
    "colab_type": "code",
    "executionInfo": {
     "elapsed": 749,
     "status": "ok",
     "timestamp": 1548022574733,
     "user": {
      "displayName": "Alberto Sartori",
      "photoUrl": "",
      "userId": "09475996073891121471"
     },
     "user_tz": -60
    },
    "id": "xCjXsZGJVcB4",
    "outputId": "80a17b3d-cbb4-427f-9bba-2bd49b8af7e3"
   },
   "outputs": [],
   "source": [
    "%lsmagic"
   ]
  },
  {
   "cell_type": "markdown",
   "metadata": {
    "colab_type": "text",
    "id": "XBpud0KzVcCO"
   },
   "source": [
    "## Python interpreter\n",
    "* Compile source to bytecode then execute it on a virtual machine \n",
    "* Survives any execution error, even in case of syntax errors\n",
    " * in python also indentation is syntax\n",
    "* expression is code that returns an object \n",
    "* if no error, the prompt (\">>>\") automatically: \n",
    " * prints the result on screen\n",
    " * assigns the result to \"_\""
   ]
  },
  {
   "cell_type": "code",
   "execution_count": null,
   "metadata": {
    "colab": {},
    "colab_type": "code",
    "id": "CQG6XOotVcCR"
   },
   "outputs": [],
   "source": [
    "# expression that returns something\n",
    "12345"
   ]
  },
  {
   "cell_type": "code",
   "execution_count": null,
   "metadata": {
    "colab": {},
    "colab_type": "code",
    "id": "x_O6hRCRVcCV"
   },
   "outputs": [],
   "source": [
    "# that something was assigned to \"_\"\n",
    "_"
   ]
  },
  {
   "cell_type": "code",
   "execution_count": null,
   "metadata": {
    "colab": {},
    "colab_type": "code",
    "id": "8w5sBOMdVcCZ"
   },
   "outputs": [],
   "source": [
    "# Error example: division by 0\n",
    "1/0"
   ]
  },
  {
   "cell_type": "code",
   "execution_count": null,
   "metadata": {
    "colab": {},
    "colab_type": "code",
    "id": "4T9j0h2JVcCh"
   },
   "outputs": [],
   "source": [
    "print = 7"
   ]
  },
  {
   "cell_type": "code",
   "execution_count": null,
   "metadata": {
    "colab": {},
    "colab_type": "code",
    "id": "r3WRg2EGVcCn"
   },
   "outputs": [],
   "source": [
    "print(\"hello world\")"
   ]
  },
  {
   "cell_type": "code",
   "execution_count": null,
   "metadata": {
    "colab": {},
    "colab_type": "code",
    "id": "lM-bUdL1VcCv"
   },
   "outputs": [],
   "source": [
    "%reset\n",
    "print(\"hello world\")"
   ]
  }
 ],
 "metadata": {
  "colab": {
   "name": "01_jupyter_intro.ipynb",
   "provenance": [],
   "version": "0.3.2"
  },
  "kernelspec": {
   "display_name": "Python 3",
   "language": "python",
   "name": "python3"
  },
  "language_info": {
   "codemirror_mode": {
    "name": "ipython",
    "version": 3
   },
   "file_extension": ".py",
   "mimetype": "text/x-python",
   "name": "python",
   "nbconvert_exporter": "python",
   "pygments_lexer": "ipython3",
   "version": "3.7.0"
  }
 },
 "nbformat": 4,
 "nbformat_minor": 1
}
