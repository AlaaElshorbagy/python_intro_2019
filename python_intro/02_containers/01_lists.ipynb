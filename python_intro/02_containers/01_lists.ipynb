{
 "cells": [
  {
   "cell_type": "markdown",
   "metadata": {
    "colab_type": "text",
    "id": "vhOLtpSPYySe"
   },
   "source": [
    "## Lists\n",
    " - mutable\n",
    " - resizable\n",
    " - stored objects can change\n",
    " - object can be of different type"
   ]
  },
  {
   "cell_type": "code",
   "execution_count": 0,
   "metadata": {
    "colab": {},
    "colab_type": "code",
    "id": "zxFrtsZ3YySi"
   },
   "outputs": [],
   "source": [
    "l = [] \n",
    "l.append(1)\n",
    "l.append(\"string\")\n",
    "l.append(4.5)\n",
    "print(l)\n",
    "l[1] = True\n",
    "print(l)"
   ]
  },
  {
   "cell_type": "markdown",
   "metadata": {
    "colab_type": "text",
    "id": "rz0PDtjvYySq"
   },
   "source": [
    "### `list()`\n",
    "- lists can be constructed with the `list()` command"
   ]
  },
  {
   "cell_type": "code",
   "execution_count": 0,
   "metadata": {
    "colab": {},
    "colab_type": "code",
    "id": "Oje-XWyrYySt"
   },
   "outputs": [],
   "source": [
    "empty_list = list()\n",
    "print(\"empty_list:\", empty_list)\n",
    "list_from_range = list(range(10))\n",
    "print(\"list_from_range:\", list_from_range)\n",
    "list_from_string = list(\"hello world\")\n",
    "print(\"list_from_string:\", list_from_string)"
   ]
  },
  {
   "cell_type": "markdown",
   "metadata": {
    "colab_type": "text",
    "id": "g0qeNRjJYySz"
   },
   "source": [
    "### slicing\n",
    " - `list[start:stop:step]` note that `[start:stop)`\n",
    " - if omitted `start==0`\n",
    " - if `stop` is omitted means till last element **included**\n",
    " - if omitetted `step==1`"
   ]
  },
  {
   "cell_type": "code",
   "execution_count": 0,
   "metadata": {
    "colab": {},
    "colab_type": "code",
    "id": "QjyJQp2WYyS2"
   },
   "outputs": [],
   "source": [
    "print(list_from_range[0:3:1]) # print first 3 elements\n",
    "print(list_from_range[:3])\n",
    "print(list_from_range[:-1]) # last element is excluded"
   ]
  },
  {
   "cell_type": "markdown",
   "metadata": {
    "colab_type": "text",
    "id": "Mx_OxPJUYyS7"
   },
   "source": [
    "### len\n",
    " - the size of a list is returned by the `len` command\n"
   ]
  },
  {
   "cell_type": "code",
   "execution_count": 0,
   "metadata": {
    "colab": {},
    "colab_type": "code",
    "id": "bjzxv61GYyS9"
   },
   "outputs": [],
   "source": [
    "print(len(list_from_range))"
   ]
  },
  {
   "cell_type": "markdown",
   "metadata": {
    "colab_type": "text",
    "id": "eWYN3YW7YyTB"
   },
   "source": [
    "### \\+ and \\*\n",
    " - they always return new objects\n",
    " - if you want to modify in place use the augmented assignments `+=`, `*=`,...\n",
    " "
   ]
  },
  {
   "cell_type": "code",
   "execution_count": 0,
   "metadata": {
    "colab": {},
    "colab_type": "code",
    "id": "Z8ll6lKMYyTD"
   },
   "outputs": [],
   "source": [
    "print(list_from_range + list_from_string)\n",
    "print(list_from_range)\n",
    "\n",
    "print(l*3)\n",
    "print(l)"
   ]
  },
  {
   "cell_type": "markdown",
   "metadata": {
    "colab_type": "text",
    "id": "CMRVa9vJYyTK"
   },
   "source": [
    "### Pay attention to lists of lists"
   ]
  },
  {
   "cell_type": "code",
   "execution_count": 0,
   "metadata": {
    "colab": {},
    "colab_type": "code",
    "id": "NSdeewFYYyTM"
   },
   "outputs": [],
   "source": [
    "board = [['_']*3]*3\n",
    "print(board)\n",
    "board[1][1] = 'X'\n",
    "print(board)"
   ]
  },
  {
   "cell_type": "markdown",
   "metadata": {
    "colab_type": "text",
    "id": "Dr0pfkbYYyTR"
   },
   "source": [
    "### List comprehensions (aka listcomps)\n",
    " - more readable\n",
    " - inside `[ ]` indentation does not matter and new lines are allowed"
   ]
  },
  {
   "cell_type": "code",
   "execution_count": 0,
   "metadata": {
    "colab": {},
    "colab_type": "code",
    "id": "V-LsHkBRYyTV"
   },
   "outputs": [],
   "source": [
    "board = [['_']*3 for i in range(3)]\n",
    "print(board)\n",
    "board[1][1] = 'X'\n",
    "print(board)"
   ]
  },
  {
   "cell_type": "code",
   "execution_count": 0,
   "metadata": {
    "colab": {},
    "colab_type": "code",
    "id": "v1NMy4P4YyTc"
   },
   "outputs": [],
   "source": [
    "odd_numbers = [n for n in range(20) if n%2]\n",
    "print (\"odd_numbers\",odd_numbers)\n",
    "even_numbers = [n for n in range(20) if not n%2]\n",
    "print(\"even_numbers\",even_numbers)"
   ]
  },
  {
   "cell_type": "markdown",
   "metadata": {
    "colab_type": "text",
    "id": "2rmfJ5ZJYyTi"
   },
   "source": [
    "### `sort` vs. `sorted`\n",
    " - `sorted` returns **new object** \n",
    " - `sort` does it **in place**"
   ]
  },
  {
   "cell_type": "code",
   "execution_count": 0,
   "metadata": {
    "colab": {},
    "colab_type": "code",
    "id": "RjrVOK9iYyTj"
   },
   "outputs": [],
   "source": [
    "l = [5,10,1,4,2]\n",
    "print(\"sorted(l)\",sorted(l))\n",
    "print(\"l\",l)\n",
    "l.sort()\n",
    "print(\"l after l.sort()\", l)"
   ]
  },
  {
   "cell_type": "markdown",
   "metadata": {
    "colab_type": "text",
    "id": "wwIvzLy6YyTn"
   },
   "source": [
    "### delete items\n",
    " - `del list[idx]` remove element with offset `idx`. `del` is a Python statement\n",
    " - `list.pop[idx]` remove element with offset `idx` and return it\n",
    " - `list.remove(val)` remove element whose value is val "
   ]
  },
  {
   "cell_type": "code",
   "execution_count": 0,
   "metadata": {
    "colab": {},
    "colab_type": "code",
    "id": "W6OMaWH-YyTp"
   },
   "outputs": [],
   "source": [
    "l = list(range(5))\n",
    "print(\"l\",l)\n",
    "del l[1] # delete second element\n",
    "print(\"l\",l)\n",
    "a = l.pop(-1) # pop last element\n",
    "print(\"l\", l)\n",
    "print(\"a\",a)\n",
    "l.remove(2)\n",
    "print(\"l\",l)"
   ]
  }
 ],
 "metadata": {
  "colab": {
   "collapsed_sections": [],
   "name": "01_lists.ipynb",
   "provenance": [],
   "version": "0.3.2"
  },
  "kernelspec": {
   "display_name": "Python 3",
   "language": "python",
   "name": "python3"
  },
  "language_info": {
   "codemirror_mode": {
    "name": "ipython",
    "version": 3
   },
   "file_extension": ".py",
   "mimetype": "text/x-python",
   "name": "python",
   "nbconvert_exporter": "python",
   "pygments_lexer": "ipython3",
   "version": "3.7.0"
  }
 },
 "nbformat": 4,
 "nbformat_minor": 1
}
