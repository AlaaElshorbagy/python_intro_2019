{
 "cells": [
  {
   "cell_type": "markdown",
   "metadata": {},
   "source": [
    "### Arrays\n",
    "Array is a container which can hold a fix number of items and these items should be of the same type. Most of the data structures make use of arrays to implement their algorithms."
   ]
  },
  {
   "cell_type": "markdown",
   "metadata": {},
   "source": [
    "|Typecode |\tValue|\n",
    "| --------- | -------- |\n",
    "|'b' |\tRepresents signed integer of size 1 byte|\n",
    "|'B' |\tRepresents unsigned integer of size 1 byte|\n",
    "|'c' |\tRepresents character of size 1 byte|\n",
    "|'i' |\tRepresents signed integer of size 2 bytes|\n",
    "|'I' |\tRepresents unsigned integer of size 2 bytes|\n",
    "|'f' |\tRepresents floating point of size 4 bytes|\n",
    "|'d' |\tRepresents floating point of size 8 bytes|"
   ]
  },
  {
   "cell_type": "code",
   "execution_count": null,
   "metadata": {},
   "outputs": [],
   "source": [
    "from array import array\n",
    "a = array('b', [0,1,2,3,4,5,6,7,8,9,10,11,12,13,14,127])\n",
    "print(a)\n",
    "a[-1] += 1"
   ]
  },
  {
   "cell_type": "code",
   "execution_count": null,
   "metadata": {},
   "outputs": [],
   "source": [
    "print(a)"
   ]
  },
  {
   "cell_type": "code",
   "execution_count": null,
   "metadata": {},
   "outputs": [],
   "source": [
    "a.index(127)"
   ]
  },
  {
   "cell_type": "code",
   "execution_count": null,
   "metadata": {},
   "outputs": [],
   "source": [
    "a.insert(1,99)\n",
    "print(a)"
   ]
  }
 ],
 "metadata": {
  "kernelspec": {
   "display_name": "Python 3",
   "language": "python",
   "name": "python3"
  },
  "language_info": {
   "codemirror_mode": {
    "name": "ipython",
    "version": 3
   },
   "file_extension": ".py",
   "mimetype": "text/x-python",
   "name": "python",
   "nbconvert_exporter": "python",
   "pygments_lexer": "ipython3",
   "version": "3.7.0"
  }
 },
 "nbformat": 4,
 "nbformat_minor": 2
}
