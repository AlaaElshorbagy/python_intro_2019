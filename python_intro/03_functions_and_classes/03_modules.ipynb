{
  "nbformat": 4,
  "nbformat_minor": 0,
  "metadata": {
    "colab": {
      "name": "03_modules.ipynb",
      "version": "0.3.2",
      "provenance": [],
      "collapsed_sections": []
    },
    "kernelspec": {
      "display_name": "Python 3",
      "language": "python",
      "name": "python3"
    }
  },
  "cells": [
    {
      "metadata": {
        "id": "7qBN8FsknHoe",
        "colab_type": "code",
        "colab": {}
      },
      "cell_type": "code",
      "source": [
        "!pip install wget\n",
        "import wget\n",
        "url = 'https://raw.githubusercontent.com/asartori86/python_intro_2019/master/python_intro/03_functions_and_classes/my_module.py'\n",
        "filename = wget.download(url)"
      ],
      "execution_count": 0,
      "outputs": []
    },
    {
      "metadata": {
        "id": "oniwLY_xaECO",
        "colab_type": "text"
      },
      "cell_type": "markdown",
      "source": [
        "### modules are just `.py` files (with python code)"
      ]
    },
    {
      "metadata": {
        "id": "SfIghrCdaECS",
        "colab_type": "code",
        "colab": {}
      },
      "cell_type": "code",
      "source": [
        "!cat my_module.py"
      ],
      "execution_count": 0,
      "outputs": []
    },
    {
      "metadata": {
        "id": "NKJUwQZYaECb",
        "colab_type": "code",
        "colab": {}
      },
      "cell_type": "code",
      "source": [
        "%reset -f\n",
        "import my_module\n",
        "my_module.foo()\n",
        "my_module.bar()\n",
        "# foo() # error"
      ],
      "execution_count": 0,
      "outputs": []
    },
    {
      "metadata": {
        "id": "yp8KyOvqaECi",
        "colab_type": "code",
        "colab": {}
      },
      "cell_type": "code",
      "source": [
        "%reset -f\n",
        "from my_module import foo\n",
        "foo()\n",
        "# bar() # error, not defined"
      ],
      "execution_count": 0,
      "outputs": []
    },
    {
      "metadata": {
        "id": "7JoZ3kgLaECp",
        "colab_type": "code",
        "colab": {}
      },
      "cell_type": "code",
      "source": [
        "%reset -f\n",
        "import my_module as mm\n",
        "mm.foo()\n",
        "mm.bar()"
      ],
      "execution_count": 0,
      "outputs": []
    },
    {
      "metadata": {
        "id": "vMG2vc5-aECu",
        "colab_type": "code",
        "colab": {}
      },
      "cell_type": "code",
      "source": [
        "%reset -f\n",
        "from my_module import *\n",
        "foo()\n",
        "bar()"
      ],
      "execution_count": 0,
      "outputs": []
    },
    {
      "metadata": {
        "id": "LXTmtIBxaECy",
        "colab_type": "code",
        "colab": {}
      },
      "cell_type": "code",
      "source": [
        "%reset -f\n",
        "from my_module import foo as alternative_name_for_foo\n",
        "alternative_name_for_foo()"
      ],
      "execution_count": 0,
      "outputs": []
    },
    {
      "metadata": {
        "id": "k-GbEUxUaEC3",
        "colab_type": "text"
      },
      "cell_type": "markdown",
      "source": [
        "### where are the python modules?"
      ]
    },
    {
      "metadata": {
        "id": "Llijf8ZjaEC7",
        "colab_type": "code",
        "colab": {}
      },
      "cell_type": "code",
      "source": [
        "import sys\n",
        "print(sys.path)"
      ],
      "execution_count": 0,
      "outputs": []
    }
  ]
}